{
  "cells": [
    {
      "cell_type": "markdown",
      "metadata": {},
      "source": [
        "# **1. Import Library**"
      ]
    },
    {
      "cell_type": "code",
      "execution_count": 1,
      "metadata": {},
      "outputs": [],
      "source": [
        "# Manipulasi Data \n",
        "import pandas as pd\n",
        "import numpy as np\n",
        "\n",
        "# Visualisasi Data\n",
        "import matplotlib.pyplot as plt\n",
        "import seaborn as sns\n",
        "\n",
        "# Feature Scaling and Encoding\n",
        "from sklearn.preprocessing import MinMaxScaler, LabelEncoder\n",
        "\n",
        "# Model Machine Learning Klasifikasi \n",
        "from sklearn.model_selection import train_test_split, cross_val_score\n",
        "from sklearn.linear_model import LogisticRegression\n",
        "from sklearn.tree import DecisionTreeClassifier\n",
        "from sklearn.ensemble import RandomForestClassifier\n",
        "from sklearn.naive_bayes import GaussianNB\n",
        "from sklearn.svm import SVC\n",
        "from sklearn.model_selection import GridSearchCV, RandomizedSearchCV\n",
        "\n",
        "# Evalusai Model\n",
        "from sklearn.metrics import classification_report, accuracy_score, precision_score, recall_score, f1_score\n",
        "from sklearn.metrics import confusion_matrix\n",
        "\n",
        "# Menyimpan Model\n",
        "import joblib"
      ]
    },
    {
      "cell_type": "markdown",
      "metadata": {},
      "source": [
        "# **2. Memuat Dataset dari Hasil Clustering**"
      ]
    },
    {
      "cell_type": "code",
      "execution_count": 2,
      "metadata": {},
      "outputs": [
        {
          "data": {
            "text/html": [
              "<div>\n",
              "<style scoped>\n",
              "    .dataframe tbody tr th:only-of-type {\n",
              "        vertical-align: middle;\n",
              "    }\n",
              "\n",
              "    .dataframe tbody tr th {\n",
              "        vertical-align: top;\n",
              "    }\n",
              "\n",
              "    .dataframe thead th {\n",
              "        text-align: right;\n",
              "    }\n",
              "</style>\n",
              "<table border=\"1\" class=\"dataframe\">\n",
              "  <thead>\n",
              "    <tr style=\"text-align: right;\">\n",
              "      <th></th>\n",
              "      <th>TransactionAmount</th>\n",
              "      <th>TransactionType</th>\n",
              "      <th>Location</th>\n",
              "      <th>Channel</th>\n",
              "      <th>CustomerAge</th>\n",
              "      <th>CustomerOccupation</th>\n",
              "      <th>TransactionDuration</th>\n",
              "      <th>LoginAttempts</th>\n",
              "      <th>AccountBalance</th>\n",
              "      <th>AgeGroup</th>\n",
              "      <th>Target</th>\n",
              "    </tr>\n",
              "  </thead>\n",
              "  <tbody>\n",
              "    <tr>\n",
              "      <th>0</th>\n",
              "      <td>14.09</td>\n",
              "      <td>Debit</td>\n",
              "      <td>San Diego</td>\n",
              "      <td>ATM</td>\n",
              "      <td>70.0</td>\n",
              "      <td>Doctor</td>\n",
              "      <td>81.0</td>\n",
              "      <td>1.0</td>\n",
              "      <td>5112.21</td>\n",
              "      <td>Lansia</td>\n",
              "      <td>1</td>\n",
              "    </tr>\n",
              "    <tr>\n",
              "      <th>1</th>\n",
              "      <td>376.24</td>\n",
              "      <td>Debit</td>\n",
              "      <td>Houston</td>\n",
              "      <td>ATM</td>\n",
              "      <td>68.0</td>\n",
              "      <td>Doctor</td>\n",
              "      <td>141.0</td>\n",
              "      <td>1.0</td>\n",
              "      <td>13758.91</td>\n",
              "      <td>Lansia</td>\n",
              "      <td>0</td>\n",
              "    </tr>\n",
              "    <tr>\n",
              "      <th>2</th>\n",
              "      <td>126.29</td>\n",
              "      <td>Debit</td>\n",
              "      <td>Mesa</td>\n",
              "      <td>Online</td>\n",
              "      <td>19.0</td>\n",
              "      <td>Student</td>\n",
              "      <td>56.0</td>\n",
              "      <td>1.0</td>\n",
              "      <td>1122.35</td>\n",
              "      <td>Anak Muda</td>\n",
              "      <td>0</td>\n",
              "    </tr>\n",
              "    <tr>\n",
              "      <th>3</th>\n",
              "      <td>184.50</td>\n",
              "      <td>Debit</td>\n",
              "      <td>Raleigh</td>\n",
              "      <td>Online</td>\n",
              "      <td>26.0</td>\n",
              "      <td>Student</td>\n",
              "      <td>25.0</td>\n",
              "      <td>1.0</td>\n",
              "      <td>8569.06</td>\n",
              "      <td>Golden Age</td>\n",
              "      <td>1</td>\n",
              "    </tr>\n",
              "    <tr>\n",
              "      <th>4</th>\n",
              "      <td>13.45</td>\n",
              "      <td>Credit</td>\n",
              "      <td>Atlanta</td>\n",
              "      <td>Online</td>\n",
              "      <td>45.0</td>\n",
              "      <td>Student</td>\n",
              "      <td>198.0</td>\n",
              "      <td>1.0</td>\n",
              "      <td>7429.40</td>\n",
              "      <td>Orang Tua</td>\n",
              "      <td>2</td>\n",
              "    </tr>\n",
              "  </tbody>\n",
              "</table>\n",
              "</div>"
            ],
            "text/plain": [
              "   TransactionAmount TransactionType   Location Channel  CustomerAge  \\\n",
              "0              14.09           Debit  San Diego     ATM         70.0   \n",
              "1             376.24           Debit    Houston     ATM         68.0   \n",
              "2             126.29           Debit       Mesa  Online         19.0   \n",
              "3             184.50           Debit    Raleigh  Online         26.0   \n",
              "4              13.45          Credit    Atlanta  Online         45.0   \n",
              "\n",
              "  CustomerOccupation  TransactionDuration  LoginAttempts  AccountBalance  \\\n",
              "0             Doctor                 81.0            1.0         5112.21   \n",
              "1             Doctor                141.0            1.0        13758.91   \n",
              "2            Student                 56.0            1.0         1122.35   \n",
              "3            Student                 25.0            1.0         8569.06   \n",
              "4            Student                198.0            1.0         7429.40   \n",
              "\n",
              "     AgeGroup  Target  \n",
              "0      Lansia       1  \n",
              "1      Lansia       0  \n",
              "2   Anak Muda       0  \n",
              "3  Golden Age       1  \n",
              "4   Orang Tua       2  "
            ]
          },
          "execution_count": 2,
          "metadata": {},
          "output_type": "execute_result"
        }
      ],
      "source": [
        "path = '/Users/bagasnuryaman/Proyek_Akhir_Coding_Camp/BMLP_SatriaDirgantaraNuryaman/data_clustering_inverse.csv'\n",
        "\n",
        "# Load Data\n",
        "df = pd.read_csv(path)\n",
        "\n",
        "# Menampilkan Data\n",
        "df.head()"
      ]
    },
    {
      "cell_type": "markdown",
      "metadata": {},
      "source": [
        "# **3. Data Splitting**"
      ]
    },
    {
      "cell_type": "code",
      "execution_count": 3,
      "metadata": {},
      "outputs": [
        {
          "name": "stdout",
          "output_type": "stream",
          "text": [
            "Ukuran data training: (2010, 10)\n",
            "Ukuran data testing: (503, 10)\n"
          ]
        }
      ],
      "source": [
        "X = df.drop(columns=['Target'])\n",
        "y = df['Target']\n",
        "\n",
        "# Splitting data \n",
        "X_train, X_test, y_train, y_test = train_test_split(X, y, test_size=0.2, random_state=42)\n",
        "\n",
        "# Cek jumlah data \n",
        "print(f'Ukuran data training: {X_train.shape}')\n",
        "print(f'Ukuran data testing: {X_test.shape}')\n"
      ]
    },
    {
      "cell_type": "code",
      "execution_count": 4,
      "metadata": {},
      "outputs": [],
      "source": [
        "# Melakukan Encoding dan juga scaling \n",
        "le = LabelEncoder()\n",
        "X_train_processed = X_train.copy()\n",
        "X_test_processed = X_test.copy()\n",
        "\n",
        "# Encode semua kolom kategori\n",
        "categorical_columns = []\n",
        "for column in X_train.columns:\n",
        "    if X_train[column].dtype == 'object':\n",
        "        categorical_columns.append(column)\n",
        "        X_train_processed[column] = le.fit_transform(X_train[column].astype(str))\n",
        "        X_test_processed[column] = le.transform(X_test[column].astype(str))\n",
        "\n",
        "scaler = MinMaxScaler()\n",
        "X_train_scaled = scaler.fit_transform(X_train_processed)\n",
        "X_test_scaled = scaler.transform(X_test_processed)\n",
        "\n",
        "# Convert back to DataFrame untuk readability\n",
        "feature_names = X_train_processed.columns\n",
        "X_train_final = pd.DataFrame(X_train_scaled, columns=feature_names, index=X_train_processed.index)\n",
        "X_test_final = pd.DataFrame(X_test_scaled, columns=feature_names, index=X_test_processed.index)\n",
        "\n"
      ]
    },
    {
      "cell_type": "markdown",
      "metadata": {},
      "source": [
        "# **4. Membangung Model Klasfikasi**"
      ]
    },
    {
      "cell_type": "markdown",
      "metadata": {},
      "source": [
        "## Melatih Model Decision Tree Classifier"
      ]
    },
    {
      "cell_type": "code",
      "execution_count": 5,
      "metadata": {},
      "outputs": [
        {
          "name": "stdout",
          "output_type": "stream",
          "text": [
            "Model Udah Pinter Nih Mamang\n"
          ]
        }
      ],
      "source": [
        "# Inisialisasi Model\n",
        "model_dt = DecisionTreeClassifier(random_state=42)\n",
        "\n",
        "# Melatih Model\n",
        "model_dt.fit(X_train_final, y_train)\n",
        "\n",
        "# Prediksi\n",
        "y_pred = model_dt.predict(X_test_final)\n",
        "\n",
        "print('Model Udah Pinter Nih Mamang')"
      ]
    },
    {
      "cell_type": "markdown",
      "metadata": {},
      "source": [
        "## Menyimpan Model "
      ]
    },
    {
      "cell_type": "code",
      "execution_count": 6,
      "metadata": {},
      "outputs": [
        {
          "name": "stdout",
          "output_type": "stream",
          "text": [
            "Model Udah Disimpan dengan baik Mang\n"
          ]
        }
      ],
      "source": [
        "joblib.dump(model_dt, 'decision_tree_model.h5')\n",
        "\n",
        "print('Model Udah Disimpan dengan baik Mang')"
      ]
    },
    {
      "cell_type": "markdown",
      "metadata": {},
      "source": [
        "# **5. Membangun Model Klasifikasi Lain**"
      ]
    },
    {
      "cell_type": "markdown",
      "metadata": {},
      "source": [
        "## Melatih Model Selain Decision Tree"
      ]
    },
    {
      "cell_type": "code",
      "execution_count": 7,
      "metadata": {},
      "outputs": [
        {
          "name": "stdout",
          "output_type": "stream",
          "text": [
            "\n",
            "Traning Decision Tree Lagi Proses Kawan!\n",
            "Decision Tree Udah Pinter Nih Mamang!!!\n",
            "\n",
            "\n",
            "Traning Logistic Regression Lagi Proses Kawan!\n",
            "Logistic Regression Udah Pinter Nih Mamang!!!\n",
            "\n",
            "\n",
            "Traning Random Forest Lagi Proses Kawan!\n",
            "Random Forest Udah Pinter Nih Mamang!!!\n",
            "\n",
            "\n",
            "Traning Gaussian Naive Bayes Lagi Proses Kawan!\n",
            "Gaussian Naive Bayes Udah Pinter Nih Mamang!!!\n",
            "\n",
            "\n",
            "Traning Support Vector Machine Lagi Proses Kawan!\n",
            "Support Vector Machine Udah Pinter Nih Mamang!!!\n",
            "\n"
          ]
        }
      ],
      "source": [
        "models = {\n",
        "    'Decision Tree': DecisionTreeClassifier(random_state=42),\n",
        "    'Logistic Regression': LogisticRegression(max_iter=1000, random_state=42),\n",
        "    'Random Forest': RandomForestClassifier(random_state=42),\n",
        "    'Gaussian Naive Bayes': GaussianNB(),\n",
        "    'Support Vector Machine': SVC(random_state=42),\n",
        "}\n",
        "\n",
        "\n",
        "# Melatih Setiap Model \n",
        "for model_name, model in models.items():\n",
        "    print(f'\\nTraning {model_name} Lagi Proses Kawan!')\n",
        "\n",
        "    # Melatih Model \n",
        "    model.fit(X_train_final, y_train)\n",
        "    \n",
        "    print(f'{model_name} Udah Pinter Nih Mamang!!!\\n')"
      ]
    },
    {
      "cell_type": "markdown",
      "metadata": {},
      "source": [
        "## Evaluasi Model selain Decision Tree"
      ]
    },
    {
      "cell_type": "code",
      "execution_count": 8,
      "metadata": {},
      "outputs": [
        {
          "data": {
            "image/png": "[encoded data removed]",
            "text/plain": [
              "<Figure size 2000x1200 with 11 Axes>"
            ]
          },
          "metadata": {},
          "output_type": "display_data"
        },
        {
          "name": "stdout",
          "output_type": "stream",
          "text": [
            "Hasil Evaluasi Model Klasifikasi:\n"
          ]
        },
        {
          "data": {
            "text/html": [
              "<div>\n",
              "<style scoped>\n",
              "    .dataframe tbody tr th:only-of-type {\n",
              "        vertical-align: middle;\n",
              "    }\n",
              "\n",
              "    .dataframe tbody tr th {\n",
              "        vertical-align: top;\n",
              "    }\n",
              "\n",
              "    .dataframe thead th {\n",
              "        text-align: right;\n",
              "    }\n",
              "</style>\n",
              "<table border=\"1\" class=\"dataframe\">\n",
              "  <thead>\n",
              "    <tr style=\"text-align: right;\">\n",
              "      <th></th>\n",
              "      <th>Accuracy</th>\n",
              "      <th>Precision</th>\n",
              "      <th>Recall</th>\n",
              "      <th>F1 Score</th>\n",
              "    </tr>\n",
              "  </thead>\n",
              "  <tbody>\n",
              "    <tr>\n",
              "      <th>Decision Tree</th>\n",
              "      <td>0.9861</td>\n",
              "      <td>0.9862</td>\n",
              "      <td>0.9861</td>\n",
              "      <td>0.9861</td>\n",
              "    </tr>\n",
              "    <tr>\n",
              "      <th>Logistic Regression</th>\n",
              "      <td>0.9642</td>\n",
              "      <td>0.9653</td>\n",
              "      <td>0.9642</td>\n",
              "      <td>0.9643</td>\n",
              "    </tr>\n",
              "    <tr>\n",
              "      <th>Random Forest</th>\n",
              "      <td>0.9901</td>\n",
              "      <td>0.9904</td>\n",
              "      <td>0.9901</td>\n",
              "      <td>0.9901</td>\n",
              "    </tr>\n",
              "    <tr>\n",
              "      <th>Gaussian Naive Bayes</th>\n",
              "      <td>0.9046</td>\n",
              "      <td>0.9103</td>\n",
              "      <td>0.9046</td>\n",
              "      <td>0.9046</td>\n",
              "    </tr>\n",
              "    <tr>\n",
              "      <th>Support Vector Machine</th>\n",
              "      <td>0.9225</td>\n",
              "      <td>0.9229</td>\n",
              "      <td>0.9225</td>\n",
              "      <td>0.9224</td>\n",
              "    </tr>\n",
              "  </tbody>\n",
              "</table>\n",
              "</div>"
            ],
            "text/plain": [
              "                        Accuracy  Precision  Recall  F1 Score\n",
              "Decision Tree             0.9861     0.9862  0.9861    0.9861\n",
              "Logistic Regression       0.9642     0.9653  0.9642    0.9643\n",
              "Random Forest             0.9901     0.9904  0.9901    0.9901\n",
              "Gaussian Naive Bayes      0.9046     0.9103  0.9046    0.9046\n",
              "Support Vector Machine    0.9225     0.9229  0.9225    0.9224"
            ]
          },
          "metadata": {},
          "output_type": "display_data"
        },
        {
          "name": "stdout",
          "output_type": "stream",
          "text": [
            "Model Terbaik Yang Ditemukan Dari Langit Adalah Random Forest dengan akurasi 99.0%\n",
            "\n",
            "Laporan Klasifikasi Detail  Random Forest:\n",
            "              precision    recall  f1-score   support\n",
            "\n",
            "           0     1.0000    1.0000    1.0000       196\n",
            "           1     1.0000    0.9682    0.9838       157\n",
            "           2     0.9677    1.0000    0.9836       150\n",
            "\n",
            "    accuracy                         0.9901       503\n",
            "   macro avg     0.9892    0.9894    0.9891       503\n",
            "weighted avg     0.9904    0.9901    0.9901       503\n",
            "\n",
            "Peringkat Model:\n",
            "1. Random Forest: 99.0%\n",
            "2. Decision Tree: 98.6%\n",
            "3. Logistic Regression: 96.4%\n",
            "4. Support Vector Machine: 92.2%\n",
            "5. Gaussian Naive Bayes: 90.5%\n"
          ]
        }
      ],
      "source": [
        "# Evaluasi Model\n",
        "results = {}\n",
        "for model_name, model in models.items():\n",
        "    y_pred = model.predict(X_test_final)\n",
        "\n",
        "    accuracy = accuracy_score(y_test, y_pred)\n",
        "    precision = precision_score(y_test, y_pred, average='weighted')\n",
        "    recall = recall_score(y_test, y_pred, average='weighted')\n",
        "    f1 = f1_score(y_test, y_pred, average='weighted')\n",
        "\n",
        "    # Menyimpan hasil ke dictionary\n",
        "    results[model_name] = {\n",
        "        'Accuracy': accuracy,\n",
        "        'Precision': precision,\n",
        "        'Recall': recall,\n",
        "        'F1 Score': f1\n",
        "    }\n",
        "\n",
        "results_df = pd.DataFrame(results).T\n",
        "results_df = results_df.round(4)\n",
        "\n",
        "\n",
        "# Set style \n",
        "plt.style.use('seaborn-v0_8-whitegrid')\n",
        "sns.set_palette(\"husl\")\n",
        "\n",
        "# Visualisasi Confusion Matrix untuk Semua Model\n",
        "fig, ax = plt.subplots(2, 3, figsize=(20, 12))\n",
        "fig.suptitle('Matriks Konfusi - Perbandingan Semua Model', fontsize=18, fontweight='bold', y=0.98)\n",
        "ax = ax.flatten()\n",
        "\n",
        "# Inimah biar ada pembeda doang sih\n",
        "colors = ['viridis', 'plasma', 'inferno', 'magma', 'cividis']\n",
        "\n",
        "subplot_idx = 0\n",
        "for model_name, model in models.items():\n",
        "    if subplot_idx < len(ax):\n",
        "\n",
        "        # Prediksi untuk confusion matrix\n",
        "        y_pred = model.predict(X_test_final)\n",
        "        cm = confusion_matrix(y_test, y_pred)\n",
        "        \n",
        "        # Plot dengan warna yang berbeda untuk setiap model\n",
        "        sns.heatmap(cm, annot=True, fmt='d', cmap=colors[subplot_idx], \n",
        "                   ax=ax[subplot_idx], \n",
        "                   cbar_kws={'shrink': 0.6},\n",
        "                   annot_kws={'size': 12, 'weight': 'bold'},\n",
        "                   linewidths=1.5, linecolor='white')\n",
        "        \n",
        "        ax[subplot_idx].set_title(f'{model_name}', fontweight='bold', fontsize=12, pad=8)\n",
        "        ax[subplot_idx].set_xlabel('Prediksi', fontweight='bold', fontsize=10)\n",
        "        ax[subplot_idx].set_ylabel('Aktual', fontweight='bold', fontsize=10)\n",
        "        \n",
        "        # Akurasi \n",
        "        accuracy = results[model_name]['Accuracy']\n",
        "        ax[subplot_idx].text(0.5, -0.25, f'Akurasi: {accuracy:.1%}', \n",
        "                              transform=ax[subplot_idx].transAxes, \n",
        "                              ha='center', fontweight='bold', fontsize=10,\n",
        "                              bbox=dict(boxstyle=\"round,pad=0.2\", facecolor='lightblue', alpha=0.7))\n",
        "        \n",
        "        subplot_idx += 1\n",
        "\n",
        "# Buang subplots kosong\n",
        "if len(models) < len(ax):\n",
        "    ax[-1].axis('off')\n",
        "\n",
        "plt.tight_layout()\n",
        "plt.subplots_adjust(top=0.92, bottom=0.15, hspace=0.5, wspace=0.3)\n",
        "plt.show()\n",
        "\n",
        "# Analisis hasil tanpa visualisasi tambahan\n",
        "best_model_name = max(results.keys(), key=lambda x: results[x]['Accuracy'])\n",
        "y_pred_best = models[best_model_name].predict(X_test_final)\n",
        "\n",
        "print('Hasil Evaluasi Model Klasifikasi:')\n",
        "display(results_df)\n",
        "\n",
        "print(f'Model Terbaik Yang Ditemukan Dari Langit Adalah {best_model_name} dengan akurasi {results[best_model_name][\"Accuracy\"]:.1%}')\n",
        "\n",
        "print(f'\\nLaporan Klasifikasi Detail  {best_model_name}:')\n",
        "print(classification_report(y_test, y_pred_best, digits=4))\n",
        "\n",
        "print('Peringkat Model:')\n",
        "sorted_models = sorted(results.items(), key=lambda x: x[1]['Accuracy'], reverse=True)\n",
        "for i, (model_name, metrics) in enumerate(sorted_models, 1):\n",
        "    print(f'{i}. {model_name}: {metrics[\"Accuracy\"]:.1%}')"
      ]
    },
    {
      "cell_type": "markdown",
      "metadata": {},
      "source": [
        "- Jika Kita lihat dari visualisasi **Confusion Matrik** yang paling mantaps dan hany salah sedikit itu ada di mdeol **Random Forest** dengan hanya 5 kesalahan pada Class 1 yang mungkin di kira Class 2. Dibuktikan dengan laporan **Classification Report** yang juga menunjukan nilai **Precision** dan **Recall** yang tinggi mencapai 1, udah fix inimah model hapal banget data latih fix inimah.\n",
        "\n",
        "\n",
        "- Sedangkan kalau Decision Tree ada di peringkat ke 3 dengan akurasi 98.6%. dengan **Confusion Matrik** yang tidak terlalu banyak kesalahan hanya, Class 1 memiliki 5 data yang salah dikira Class 2 mungkin ada kemiripan ciri. Class 2 memiliki 2 data yang salah dikira Class 1.\n",
        "\n",
        "- Disini aku merubah models menggunakan model yang kemungkinan tidak akan overfitting yaps inilah dia **Naive Bayes** yang paling buruk banget dari semua klasifikasi yang sudah aku coba nanti kita tunning."
      ]
    },
    {
      "cell_type": "markdown",
      "metadata": {},
      "source": [
        "## Menyimpan Model selain Decision Tree"
      ]
    },
    {
      "cell_type": "code",
      "execution_count": 9,
      "metadata": {},
      "outputs": [
        {
          "name": "stdout",
          "output_type": "stream",
          "text": [
            "Model Random Forest Sudah Disimpan!\n"
          ]
        }
      ],
      "source": [
        "# Menyimpan model Random Forest \n",
        "best_model = models['Random Forest']\n",
        "joblib.dump(models, 'explore_random_forest_model.h5')\n",
        "\n",
        "print('Model Random Forest Sudah Disimpan!')"
      ]
    },
    {
      "cell_type": "markdown",
      "metadata": {},
      "source": [
        "## Melakukan HyperParameter Tunning kepada Model yang kurang Maksimal"
      ]
    },
    {
      "cell_type": "code",
      "execution_count": 10,
      "metadata": {},
      "outputs": [
        {
          "name": "stdout",
          "output_type": "stream",
          "text": [
            "Fitting 5 folds for each of 100 candidates, totalling 500 fits\n",
            "Random Search Best Score: 0.9672\n",
            "Random Search Best Params: {'kernel': 'sigmoid', 'gamma': np.float64(0.005428675439323859), 'C': np.float64(390.6939937054621)}\n"
          ]
        }
      ],
      "source": [
        "# Menggunakan RandomizedSearchCV untuk hyperparameter tuning pada SVM\n",
        "\n",
        "# Hyperparameter tuning untuk SVM menggunakan RandomizedSearchCV\n",
        "param_dist_random = {\n",
        "    'C': np.logspace(-2, 3, 50),\n",
        "    'gamma': np.logspace(-4, 1, 50),\n",
        "    'kernel': ['rbf', 'poly', 'sigmoid']\n",
        "}\n",
        "\n",
        "# RandomizedSearchCV\n",
        "svm_random = RandomizedSearchCV(\n",
        "    SVC(random_state=42),\n",
        "    param_dist_random,\n",
        "    n_iter=100,\n",
        "    cv=5,\n",
        "    scoring='accuracy',\n",
        "    n_jobs=-1,\n",
        "    random_state=42,\n",
        "    verbose=1\n",
        ")\n",
        "\n",
        "# Fit random search\n",
        "svm_random.fit(X_train_final, y_train)\n",
        "\n",
        "print(f'Random Search Best Score: {svm_random.best_score_:.4f}')\n",
        "print(f'Random Search Best Params: {svm_random.best_params_}')"
      ]
    },
    {
      "cell_type": "markdown",
      "metadata": {},
      "source": [
        "Ternyata terpilih lah parameters terbaik dengan parameter di bawah ini:\n",
        "\n",
        "```python\n",
        "    kernel = 'sigmoid'\n",
        "    gamma = 0.0054\n",
        "    C = 390.68\n",
        "```\n",
        "\n",
        "- Bisa kita lihat kalau menggunkan SVM dengan kernel sigmoid, dan gamma 0.0054, dan C 390.68, maka kita bisa mendapatkan akurasi yang lebih tinggi dari original nya yaitu 0.9672, naik hampir 5% dari SVM yang tanpa tunning.\n",
        "\n",
        "- Tapi yang menarik disini adalah kernel terbaik adalah 'sigmoid' yang malah kurang populer di karnel SVM, yang populer tuh ada 'rbf' atau 'ploy' yang biasanya lebih populer. Yang menunjukan datanya cocok di pisahkan secara non liner seperti visualisasi kita pada t-SNE yang terbukti data memiliki pola non linear.\n",
        "- Nilai C yang besar (390.69) menunjukkan model lebih menekankan pada meminimalkan kesalahan pada data training (low bias, high variance), namun tetap tidak overfitting karena validasi tetap tinggi.\n",
        "\n",
        "\n",
        "\n"
      ]
    },
    {
      "cell_type": "code",
      "execution_count": 11,
      "metadata": {},
      "outputs": [
        {
          "name": "stdout",
          "output_type": "stream",
          "text": [
            "Fitting 5 folds for each of 50 candidates, totalling 250 fits\n",
            "Grid Search Best Score: 0.9766\n",
            "Grid Search Best Params: {'C': np.float64(781.3879874109242), 'gamma': np.float64(0.010857350878647719), 'kernel': 'sigmoid'}\n"
          ]
        }
      ],
      "source": [
        "# Kalau Ini berdasarkan hasil random search, kita akan fokus pada parameter terbaik yang ditemukan\n",
        "best_random_params = svm_random.best_params_\n",
        "\n",
        "# Fine tune around the best parameters\n",
        "if best_random_params['kernel'] == 'rbf':\n",
        "    kernel_focus = ['rbf']\n",
        "elif best_random_params['kernel'] == 'poly':\n",
        "    kernel_focus = ['poly', 'rbf']  # include rbf as backup\n",
        "else:\n",
        "    kernel_focus = [best_random_params['kernel'], 'rbf']\n",
        "\n",
        "# Mencoba membuat grid search dengan fokus pada parameter terbaik yang ditemukan\n",
        "param_grid_focused = {\n",
        "    'C': [\n",
        "        best_random_params['C'] * 0.1,\n",
        "        best_random_params['C'] * 0.5,\n",
        "        best_random_params['C'],\n",
        "        best_random_params['C'] * 2,\n",
        "        best_random_params['C'] * 5\n",
        "    ],\n",
        "    'gamma': [\n",
        "        best_random_params['gamma'] * 0.1,\n",
        "        best_random_params['gamma'] * 0.5,\n",
        "        best_random_params['gamma'],\n",
        "        best_random_params['gamma'] * 2,\n",
        "        best_random_params['gamma'] * 5\n",
        "    ],\n",
        "    'kernel': kernel_focus\n",
        "}\n",
        "\n",
        "# GridSearchCV untuk finetuning\n",
        "svm_grid = GridSearchCV(\n",
        "    SVC(random_state=42),\n",
        "    param_grid_focused,\n",
        "    cv=5,\n",
        "    scoring='accuracy',\n",
        "    n_jobs=-1,\n",
        "    verbose=1\n",
        ")\n",
        "\n",
        "# Fit grid search\n",
        "svm_grid.fit(X_train_final, y_train)\n",
        "\n",
        "print(f'Grid Search Best Score: {svm_grid.best_score_:.4f}')\n",
        "print(f'Grid Search Best Params: {svm_grid.best_params_}')"
      ]
    },
    {
      "cell_type": "markdown",
      "metadata": {},
      "source": [
        "Nah ini mirip mirip dengan Random Search\n",
        "\n",
        "```python\n",
        "kernel = 'sigmoid' # sama percis dengan random search\n",
        "C = 781.39\n",
        "gamma = 0.01086\n",
        "```\n",
        "\n",
        "- Sama nih karnel 'sigmoid' masih tetap menjadi pilihan yang terbaik disini menguatkan dari kedua belah teknik search params, berarti pola pemisahan pada kasus dataset kita ini cocok dengan fungsi aktivasi sigmoid.\n",
        "- Perbedaan nya hanya ada di parameters C dan gamma saja dan akurasi yang lebih tinggi 1% saja dari random search."
      ]
    },
    {
      "cell_type": "code",
      "execution_count": 12,
      "metadata": {},
      "outputs": [
        {
          "name": "stdout",
          "output_type": "stream",
          "text": [
            "\n",
            "INILAH DIA HASIL TUNING KITA\n",
            "Accuracy:  0.9682\n",
            "Precision: 0.9684\n",
            "Recall:    0.9682\n",
            "F1 Score:  0.9682\n"
          ]
        },
        {
          "data": {
            "image/png": "[encoded data removed]",
            "text/plain": [
              "<Figure size 1600x600 with 3 Axes>"
            ]
          },
          "metadata": {},
          "output_type": "display_data"
        },
        {
          "name": "stdout",
          "output_type": "stream",
          "text": [
            "\n",
            "Classification Report:\n",
            "              precision    recall  f1-score   support\n",
            "\n",
            "           0       0.97      0.97      0.97       196\n",
            "           1       0.98      0.96      0.97       157\n",
            "           2       0.95      0.98      0.97       150\n",
            "\n",
            "    accuracy                           0.97       503\n",
            "   macro avg       0.97      0.97      0.97       503\n",
            "weighted avg       0.97      0.97      0.97       503\n",
            "\n"
          ]
        }
      ],
      "source": [
        "# Get the best model from RandomizedSearchCV\n",
        "best_svm = svm_random.best_estimator_\n",
        "\n",
        "# Make predictions on the test set\n",
        "y_pred_svm = best_svm.predict(X_test_final)\n",
        "\n",
        "# Calculate evaluation metrics\n",
        "accuracy = accuracy_score(y_test, y_pred_svm)\n",
        "precision = precision_score(y_test, y_pred_svm, average='weighted')\n",
        "recall = recall_score(y_test, y_pred_svm, average='weighted')\n",
        "f1 = f1_score(y_test, y_pred_svm, average='weighted')\n",
        "\n",
        "# Print metrics with nice formatting\n",
        "print(\"\\nINILAH DIA HASIL TUNING KITA\")\n",
        "print(f\"Accuracy:  {accuracy:.4f}\")\n",
        "print(f\"Precision: {precision:.4f}\")\n",
        "print(f\"Recall:    {recall:.4f}\")\n",
        "print(f\"F1 Score:  {f1:.4f}\")\n",
        "\n",
        "# Create figure for visualization\n",
        "plt.figure(figsize=(16, 6))\n",
        "\n",
        "# Subplot 1: Confusion Matrix\n",
        "plt.subplot(1, 2, 1)\n",
        "cm = confusion_matrix(y_test, y_pred_svm)\n",
        "sns.heatmap(cm, annot=True, fmt='d', cmap='viridis', \n",
        "           cbar_kws={'shrink': 0.8},\n",
        "           annot_kws={'size': 16, 'weight': 'bold'},\n",
        "           linewidths=2, linecolor='white')\n",
        "\n",
        "plt.title('Confusion Matrix - Tuned SVM Model', fontsize=16, fontweight='bold', pad=20)\n",
        "plt.xlabel('Predicted Label', fontsize=12, fontweight='bold')\n",
        "plt.ylabel('True Label', fontsize=12, fontweight='bold')\n",
        "\n",
        "# Subplot 2: Metrics Visualization\n",
        "plt.subplot(1, 2, 2)\n",
        "metrics = ['Accuracy', 'Precision', 'Recall', 'F1 Score']\n",
        "values = [accuracy, precision, recall, f1]\n",
        "colors = ['#FF9671', '#FFC75F', '#5A97D5', '#A18CD1']\n",
        "\n",
        "bars = plt.bar(metrics, values, color=colors, width=0.5)\n",
        "plt.ylim(0, 1.0)\n",
        "plt.title('Performance Metrics - Tuned SVM Model', fontsize=16, fontweight='bold', pad=20)\n",
        "plt.ylabel('Score', fontsize=12, fontweight='bold')\n",
        "plt.grid(axis='y', linestyle='--', alpha=0.7)\n",
        "\n",
        "# Add value labels on top of each bar\n",
        "for bar in bars:\n",
        "    height = bar.get_height()\n",
        "    plt.text(bar.get_x() + bar.get_width()/2., height + 0.01,\n",
        "             f'{height:.4f}', ha='center', fontsize=13, fontweight='bold')\n",
        "\n",
        "plt.tight_layout()\n",
        "plt.show()\n",
        "\n",
        "# Display detailed classification report\n",
        "print(\"\\nClassification Report:\")\n",
        "print(classification_report(y_test, y_pred_svm))"
      ]
    },
    {
      "cell_type": "markdown",
      "metadata": {},
      "source": [
        "Berdasarkan hasil evaluasi dan visualisasi, model SVM yang telah di tuning menggunakan RandomizedSearchCV menunjukkan performa **sangat optimal** pada data uji. \n",
        "\n",
        "- **Akurasi Tinggi:**  \n",
        "  Model mencapai **Accuracy 96.82%**, menunjukkan kemampuan klasifikasi yang sangat baik pada data uji. Dengan pembuktian nya adalah dia mampu mengangkat akurasi 5% dari akurasi SVM tanpa tuning.\n",
        "\n",
        "- **Presisi, Recall, dan F1-Score Konsisten:**  \n",
        "  Nilai **Precision (96.84%)**, **Recall (96.82%)**, dan **F1 Score (96.82%)** yang hampir identik menandakan model tidak hanya akurat, tetapi juga seimbang dalam menghindari kesalahan di setiap cluster yang di jadikan klasifikasi.\n",
        "\n",
        "- **Confusion Matrix Informatif:**  \n",
        "  Visualisasi confusion matrix memperlihatkan prediksi model sangat dominan pada diagonal utama, artinya hampir semua data berhasil diklasifikasikan dengan benar dan kesalahan prediksi sangat kecil.\n",
        "\n",
        "- **Visualisasi Metrik yang Jelas:**  \n",
        "  Bar chart memperlihatkan semua metrik evaluasi berada pada level yang sangat tinggi dan seimbang, sehingga mudah dipahami baik untuk analisis teknis maupun presentasi ke stakeholder non-teknis.\n",
        "\n",
        "---\n",
        "\n",
        "**Kesimpulan:**  \n",
        "Model SVM hasil tuning RandomizedSearchCV terbukti sangat efektif dan andal dalam menyelesaikan tugas klasifikasi pada dataset ini. Evaluasi menyeluruh menunjukkan model ini siap digunakan untuk mendukung pengambilan keputusan berbasis data secara akurat dan efisien. Dan mengapa tidak memakai params GridResearch karena dia lebih overfitting 1%, walaupun sama sama overfitting tapi aku mencoba untuk menjadi Machine Learning Engineering yang tidak terpukau dengan keindahan akurasi.\n",
        "\n",
        "---\n",
        "\n",
        "> Walaupun menurut aku SVM with RandomScreah ini gak overfitting karena \n",
        "\n",
        "- Accuracy, precision, recall, dan F1-score semuanya sekitar 0.97 (97%). \n",
        "- Tidak ada gap besar antar metrik, menandakan model tidak hanya fokus pada satu aspek saja.\n",
        "- Setiap Cluster (0, 1, 2) memiliki precision, recall, dan f1-score yang tinggi dan seimbang (rentang 0.95–0.98).\n",
        "- Tidak ada kelas yang diabaikan atau jauh lebih rendah performanya.\n",
        "- Macro avg dan weighted avg juga di angka 0.97, artinya model stabil di seluruh kelas, baik yang jumlahnya banyak maupun sedikit.\n",
        "- Jumlah data uji (503) cukup representatif untuk mengukur generalisasi model.\n",
        "\n",
        "Tapi gak tau juga ya karena saya masih pemula hehehe."
      ]
    },
    {
      "cell_type": "markdown",
      "metadata": {},
      "source": [
        "## Menyimpan Model Hasil Tunning"
      ]
    },
    {
      "cell_type": "code",
      "execution_count": 13,
      "metadata": {},
      "outputs": [
        {
          "name": "stdout",
          "output_type": "stream",
          "text": [
            "Model SVM Sudah Disimpan dengan baik Mang\n"
          ]
        }
      ],
      "source": [
        "joblib.dump(best_svm, 'tunning_classification_model.h5')\n",
        "\n",
        "print('Model SVM Sudah Disimpan dengan baik Mang')"
      ]
    }
  ],
  "metadata": {
    "colab": {
      "provenance": []
    },
    "kernelspec": {
      "display_name": ".venv",
      "language": "python",
      "name": "python3"
    },
    "language_info": {
      "codemirror_mode": {
        "name": "ipython",
        "version": 3
      },
      "file_extension": ".py",
      "mimetype": "text/x-python",
      "name": "python",
      "nbconvert_exporter": "python",
      "pygments_lexer": "ipython3",
      "version": "3.11.1"
    }
  },
  "nbformat": 4,
  "nbformat_minor": 0
}
